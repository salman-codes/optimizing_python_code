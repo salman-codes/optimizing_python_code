{
 "cells": [
  {
   "cell_type": "code",
   "execution_count": 1,
   "metadata": {},
   "outputs": [
    {
     "name": "stdout",
     "output_type": "stream",
     "text": [
      "upto_for 0.058018000000000014\n",
      "upto_sum 0.031996799999999936\n"
     ]
    }
   ],
   "source": [
    "from time import perf_counter\n",
    "\n",
    "def upto_for(n):\n",
    "    sm = 0\n",
    "    for i in range(n):\n",
    "        sm += i\n",
    "    return sm\n",
    "\n",
    "def upto_sum(n):\n",
    "    return sum(range(n))\n",
    "\n",
    "if __name__ == '__main__':\n",
    "    n = 1_000_000\n",
    "    \n",
    "    start = perf_counter()\n",
    "    upto_for(n)\n",
    "    duration = perf_counter() - start\n",
    "    print('upto_for', duration)\n",
    "    \n",
    "    start = perf_counter()\n",
    "    upto_sum(n)\n",
    "    duration = perf_counter() - start\n",
    "    print('upto_sum', duration)"
   ]
  },
  {
   "cell_type": "code",
   "execution_count": 2,
   "metadata": {},
   "outputs": [
    {
     "name": "stdout",
     "output_type": "stream",
     "text": [
      "catch 0.10693429999999993\n",
      "get 0.11507310000000004\n",
      "catch 0.2584941999999999\n",
      "get 0.11374630000000008\n"
     ]
    }
   ],
   "source": [
    "\"\"\"Using \"timeit\"\"\"\n",
    "from timeit import timeit\n",
    "\n",
    "items = {\n",
    "    'a': 1,\n",
    "    'b': 2,\n",
    "}\n",
    "default = -1\n",
    "\n",
    "\n",
    "def use_catch(key):\n",
    "    \"\"\"Use try/catch to get a key with default\"\"\"\n",
    "    try:\n",
    "        return items[key]\n",
    "    except KeyError:\n",
    "        return default\n",
    "\n",
    "\n",
    "def use_get(key):\n",
    "    \"\"\"Use dict.get to get a key with default\"\"\"\n",
    "    return items.get(key, default)\n",
    "\n",
    "\n",
    "if __name__ == '__main__':\n",
    "    # Key is in the dictionary\n",
    "    print('catch', timeit('use_catch(\"a\")', 'from __main__ import use_catch'))\n",
    "    print('get', timeit('use_get(\"a\")', 'from __main__ import use_get'))\n",
    "\n",
    "    # Key is missing from the dictionary\n",
    "    print('catch', timeit('use_catch(\"x\")', 'from __main__ import use_catch'))\n",
    "    print('get', timeit('use_get(\"x\")', 'from __main__ import use_get'))\n"
   ]
  },
  {
   "cell_type": "code",
   "execution_count": 1,
   "metadata": {},
   "outputs": [
    {
     "ename": "ModuleNotFoundError",
     "evalue": "No module named '_crypt'",
     "output_type": "error",
     "traceback": [
      "\u001b[1;31m---------------------------------------------------------------------------\u001b[0m",
      "\u001b[1;31mModuleNotFoundError\u001b[0m                       Traceback (most recent call last)",
      "\u001b[1;32m<ipython-input-1-a4c019e3fa98>\u001b[0m in \u001b[0;36m<module>\u001b[1;34m\u001b[0m\n\u001b[0;32m      1\u001b[0m \u001b[1;34m\"\"\"Example login code\"\"\"\u001b[0m\u001b[1;33m\u001b[0m\u001b[1;33m\u001b[0m\u001b[0m\n\u001b[1;32m----> 2\u001b[1;33m \u001b[1;32mfrom\u001b[0m \u001b[0mcrypt\u001b[0m \u001b[1;32mimport\u001b[0m \u001b[0mcrypt\u001b[0m\u001b[1;33m\u001b[0m\u001b[1;33m\u001b[0m\u001b[0m\n\u001b[0m\u001b[0;32m      3\u001b[0m \u001b[1;32mimport\u001b[0m \u001b[0msqlite3\u001b[0m\u001b[1;33m\u001b[0m\u001b[1;33m\u001b[0m\u001b[0m\n\u001b[0;32m      4\u001b[0m \u001b[1;33m\u001b[0m\u001b[0m\n\u001b[0;32m      5\u001b[0m \u001b[0msalt\u001b[0m \u001b[1;33m=\u001b[0m \u001b[1;34m'$6$ZmBkxkRFj03LQOvr'\u001b[0m  \u001b[1;31m# Bad security, store safely\u001b[0m\u001b[1;33m\u001b[0m\u001b[1;33m\u001b[0m\u001b[0m\n",
      "\u001b[1;32m~\\AppData\\Local\\Continuum\\anaconda3\\lib\\crypt.py\u001b[0m in \u001b[0;36m<module>\u001b[1;34m\u001b[0m\n\u001b[0;32m      1\u001b[0m \u001b[1;34m\"\"\"Wrapper to the POSIX crypt library call and associated functionality.\"\"\"\u001b[0m\u001b[1;33m\u001b[0m\u001b[1;33m\u001b[0m\u001b[0m\n\u001b[0;32m      2\u001b[0m \u001b[1;33m\u001b[0m\u001b[0m\n\u001b[1;32m----> 3\u001b[1;33m \u001b[1;32mimport\u001b[0m \u001b[0m_crypt\u001b[0m\u001b[1;33m\u001b[0m\u001b[1;33m\u001b[0m\u001b[0m\n\u001b[0m\u001b[0;32m      4\u001b[0m \u001b[1;32mimport\u001b[0m \u001b[0mstring\u001b[0m \u001b[1;32mas\u001b[0m \u001b[0m_string\u001b[0m\u001b[1;33m\u001b[0m\u001b[1;33m\u001b[0m\u001b[0m\n\u001b[0;32m      5\u001b[0m \u001b[1;32mfrom\u001b[0m \u001b[0mrandom\u001b[0m \u001b[1;32mimport\u001b[0m \u001b[0mSystemRandom\u001b[0m \u001b[1;32mas\u001b[0m \u001b[0m_SystemRandom\u001b[0m\u001b[1;33m\u001b[0m\u001b[1;33m\u001b[0m\u001b[0m\n",
      "\u001b[1;31mModuleNotFoundError\u001b[0m: No module named '_crypt'"
     ]
    }
   ],
   "source": [
    "\"\"\"Example login code\"\"\"\n",
    "from crypt import crypt\n",
    "import sqlite3\n",
    "\n",
    "salt = '$6$ZmBkxkRFj03LQOvr'  # Bad security, store safely\n",
    "db = sqlite3.connect('passwords.db')\n",
    "db.row_factory = sqlite3.Row  # Access columns by names\n",
    "\n",
    "\n",
    "def user_passwd(user):\n",
    "    \"\"\"Get user password from db\"\"\"\n",
    "    cur = db.cursor()\n",
    "    cur.execute('SELECT passwd FROM users WHERE user = ?', (user, ))\n",
    "    row = cur.fetchone()\n",
    "    if row is None:  # No such user\n",
    "        raise KeyError(user)\n",
    "    return row['passwd']\n",
    "\n",
    "\n",
    "def encrypt_passwd(passwd):\n",
    "    \"\"\"Encrypt user password\"\"\"\n",
    "    return crypt(passwd, salt)\n",
    "\n",
    "\n",
    "def login(user, password):\n",
    "    \"\"\"Return True is user/password pair matches\"\"\"\n",
    "    try:\n",
    "        db_passwd = user_passwd(user)\n",
    "    except KeyError:\n",
    "        return False\n",
    "\n",
    "    passwd = encrypt_passwd(password)\n",
    "    return passwd == db_passwd\n"
   ]
  },
  {
   "cell_type": "code",
   "execution_count": null,
   "metadata": {},
   "outputs": [],
   "source": []
  },
  {
   "cell_type": "code",
   "execution_count": null,
   "metadata": {},
   "outputs": [],
   "source": []
  }
 ],
 "metadata": {
  "kernelspec": {
   "display_name": "Python 3",
   "language": "python",
   "name": "python3"
  },
  "language_info": {
   "codemirror_mode": {
    "name": "ipython",
    "version": 3
   },
   "file_extension": ".py",
   "mimetype": "text/x-python",
   "name": "python",
   "nbconvert_exporter": "python",
   "pygments_lexer": "ipython3",
   "version": "3.7.3"
  }
 },
 "nbformat": 4,
 "nbformat_minor": 2
}
